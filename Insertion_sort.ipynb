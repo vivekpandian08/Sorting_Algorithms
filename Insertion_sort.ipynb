{
  "nbformat": 4,
  "nbformat_minor": 0,
  "metadata": {
    "colab": {
      "name": "Insertion_sort.ipynb",
      "provenance": [],
      "collapsed_sections": []
    },
    "kernelspec": {
      "name": "python3",
      "display_name": "Python 3"
    }
  },
  "cells": [
    {
      "cell_type": "code",
      "metadata": {
        "id": "0LgWvgVb5-38",
        "colab_type": "code",
        "colab": {}
      },
      "source": [
        "array=[3,4,7,2,-7,-3,11,5,25,22,1]"
      ],
      "execution_count": 18,
      "outputs": []
    },
    {
      "cell_type": "code",
      "metadata": {
        "id": "pdTKiXyr6K8f",
        "colab_type": "code",
        "colab": {}
      },
      "source": [
        "def insertion(a):\n",
        "  n=len(a)\n",
        "  for i in range(1,n):\n",
        "    temp=a[i]\n",
        "    j=i-1\n",
        "    while j>=0 and a[j]>temp:\n",
        "      a[j+1]=a[j]\n",
        "      j-=1\n",
        "    a[j+1]=temp\n",
        "\n",
        "  return a"
      ],
      "execution_count": 16,
      "outputs": []
    },
    {
      "cell_type": "code",
      "metadata": {
        "id": "F6lwNTTd6rwE",
        "colab_type": "code",
        "colab": {
          "base_uri": "https://localhost:8080/",
          "height": 35
        },
        "outputId": "615d627e-4890-4f30-f15a-1a1296060c9b"
      },
      "source": [
        "insertion(array)"
      ],
      "execution_count": 19,
      "outputs": [
        {
          "output_type": "execute_result",
          "data": {
            "text/plain": [
              "[-7, -3, 1, 2, 3, 4, 5, 7, 11, 22, 25]"
            ]
          },
          "metadata": {
            "tags": []
          },
          "execution_count": 19
        }
      ]
    },
    {
      "cell_type": "markdown",
      "metadata": {
        "id": "t_Yfkta573Dk",
        "colab_type": "text"
      },
      "source": [
        "Time : O(n^2)\n",
        "Space: O(1)"
      ]
    }
  ]
}