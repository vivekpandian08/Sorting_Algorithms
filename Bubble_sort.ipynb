{
  "nbformat": 4,
  "nbformat_minor": 0,
  "metadata": {
    "colab": {
      "name": "Bubble_sort.ipynb",
      "provenance": [],
      "collapsed_sections": []
    },
    "kernelspec": {
      "name": "python3",
      "display_name": "Python 3"
    }
  },
  "cells": [
    {
      "cell_type": "code",
      "metadata": {
        "id": "yORtj9agxU6K",
        "colab_type": "code",
        "colab": {}
      },
      "source": [
        "arr=[3,4,7,2,-7,-3,11,5,22,1]"
      ],
      "execution_count": 7,
      "outputs": []
    },
    {
      "cell_type": "code",
      "metadata": {
        "id": "6rYzoAjjxiQd",
        "colab_type": "code",
        "colab": {}
      },
      "source": [
        "def bubble(ar):\n",
        "  n=len(ar)\n",
        "  for i in range(n-1):\n",
        "    swap=False\n",
        "    for j in range(n-i-1):\n",
        "      if ar[j]>ar[j+1]:\n",
        "        ar[j],ar[j+1]=ar[j+1],ar[j]\n",
        "        swap=True\n",
        "    if swap==False:\n",
        "      break\n",
        "  return ar"
      ],
      "execution_count": 14,
      "outputs": []
    },
    {
      "cell_type": "code",
      "metadata": {
        "id": "_k-9IHFCyS3t",
        "colab_type": "code",
        "colab": {
          "base_uri": "https://localhost:8080/",
          "height": 35
        },
        "outputId": "2085ec0f-8a44-4b0d-d203-1e460f70f057"
      },
      "source": [
        "bubble(arr)"
      ],
      "execution_count": 15,
      "outputs": [
        {
          "output_type": "execute_result",
          "data": {
            "text/plain": [
              "[-7, -3, 1, 2, 3, 4, 5, 7, 11, 22]"
            ]
          },
          "metadata": {
            "tags": []
          },
          "execution_count": 15
        }
      ]
    },
    {
      "cell_type": "markdown",
      "metadata": {
        "id": "6KrQNPBo8Ed9",
        "colab_type": "text"
      },
      "source": [
        "Time : O(n^2)\n",
        "\n",
        "Space: O(1)"
      ]
    }
  ]
}