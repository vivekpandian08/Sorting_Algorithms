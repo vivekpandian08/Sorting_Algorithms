{
  "nbformat": 4,
  "nbformat_minor": 0,
  "metadata": {
    "colab": {
      "name": "Selection Sort.ipynb",
      "provenance": []
    },
    "kernelspec": {
      "name": "python3",
      "display_name": "Python 3"
    }
  },
  "cells": [
    {
      "cell_type": "code",
      "metadata": {
        "id": "Lx_WKk1RQowK",
        "colab_type": "code",
        "colab": {}
      },
      "source": [
        "a=[3,23,6,8,1,-1,-7,34,25,9]"
      ],
      "execution_count": 1,
      "outputs": []
    },
    {
      "cell_type": "code",
      "metadata": {
        "id": "7Gi3wA7AQ7IL",
        "colab_type": "code",
        "colab": {}
      },
      "source": [
        "def selection_sort(arr):\n",
        "  n=len(arr)\n",
        "  for i in range(n):\n",
        "    minidx=i\n",
        "    for j in range(minidx+1,n):\n",
        "      if arr[minidx]>arr[j]:\n",
        "        minidx=j\n",
        "    arr[i],arr[minidx]=arr[minidx],arr[i]\n",
        "  return arr"
      ],
      "execution_count": 2,
      "outputs": []
    },
    {
      "cell_type": "code",
      "metadata": {
        "id": "8P4hAantTDEL",
        "colab_type": "code",
        "colab": {
          "base_uri": "https://localhost:8080/",
          "height": 35
        },
        "outputId": "6bccc987-16ec-4bf9-bf16-d6b697165cc4"
      },
      "source": [
        "selection_sort(a)"
      ],
      "execution_count": 3,
      "outputs": [
        {
          "output_type": "execute_result",
          "data": {
            "text/plain": [
              "[-7, -1, 1, 3, 6, 8, 9, 23, 25, 34]"
            ]
          },
          "metadata": {
            "tags": []
          },
          "execution_count": 3
        }
      ]
    },
    {
      "cell_type": "markdown",
      "metadata": {
        "id": "FJ8U-UqjTZPs",
        "colab_type": "text"
      },
      "source": [
        "Time : O(n^2)\n",
        "\n",
        "Space: O(1)"
      ]
    }
  ]
}